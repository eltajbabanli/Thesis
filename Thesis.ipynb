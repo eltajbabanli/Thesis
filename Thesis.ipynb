{
 "cells": [
  {
   "cell_type": "code",
   "execution_count": 1,
   "id": "70be750a",
   "metadata": {},
   "outputs": [],
   "source": [
    "import pandas as pd\n",
    "import matplotlib.pyplot as plt\n",
    "import seaborn as sns\n",
    "\n",
    "# Ignore Warnings\n",
    "import warnings\n",
    "warnings.filterwarnings('ignore')"
   ]
  },
  {
   "cell_type": "code",
   "execution_count": 2,
   "id": "0922c32c",
   "metadata": {},
   "outputs": [],
   "source": [
    "%matplotlib inline"
   ]
  },
  {
   "cell_type": "code",
   "execution_count": 3,
   "id": "5e4c576e",
   "metadata": {},
   "outputs": [],
   "source": [
    "age = pd.read_excel(\"AGE.xlsx\") "
   ]
  },
  {
   "cell_type": "code",
   "execution_count": 4,
   "id": "29fdfa92",
   "metadata": {},
   "outputs": [],
   "source": [
    "df1 = age"
   ]
  },
  {
   "cell_type": "code",
   "execution_count": 5,
   "id": "6c90b7d3",
   "metadata": {},
   "outputs": [],
   "source": [
    "# disability = pd.read_excel(\"Disability.xlsx\")"
   ]
  },
  {
   "cell_type": "code",
   "execution_count": 6,
   "id": "aa7cd88c",
   "metadata": {},
   "outputs": [],
   "source": [
    "#disability = df2"
   ]
  },
  {
   "cell_type": "code",
   "execution_count": 7,
   "id": "3380d0c8",
   "metadata": {},
   "outputs": [],
   "source": [
    "#lfm = pd.read_excel(\"LFM.xlsx\")"
   ]
  },
  {
   "cell_type": "code",
   "execution_count": 8,
   "id": "f641b36b",
   "metadata": {},
   "outputs": [],
   "source": [
    "# df3 = lfm"
   ]
  },
  {
   "cell_type": "code",
   "execution_count": 9,
   "id": "f11a36aa",
   "metadata": {},
   "outputs": [],
   "source": [
    "pd.set_option('display.max_columns', None)"
   ]
  },
  {
   "cell_type": "code",
   "execution_count": 10,
   "id": "f944fcce",
   "metadata": {},
   "outputs": [],
   "source": [
    "# over1000 = df.loc[(df['Aylıq pensiya məbləği'] >= 1000)]"
   ]
  },
  {
   "cell_type": "code",
   "execution_count": 11,
   "id": "0f48500b",
   "metadata": {},
   "outputs": [
    {
     "data": {
      "text/html": [
       "<div>\n",
       "<style scoped>\n",
       "    .dataframe tbody tr th:only-of-type {\n",
       "        vertical-align: middle;\n",
       "    }\n",
       "\n",
       "    .dataframe tbody tr th {\n",
       "        vertical-align: top;\n",
       "    }\n",
       "\n",
       "    .dataframe thead th {\n",
       "        text-align: right;\n",
       "    }\n",
       "</style>\n",
       "<table border=\"1\" class=\"dataframe\">\n",
       "  <thead>\n",
       "    <tr style=\"text-align: right;\">\n",
       "      <th></th>\n",
       "      <th>PIN</th>\n",
       "      <th>Sex</th>\n",
       "      <th>Birthday</th>\n",
       "      <th>Address</th>\n",
       "      <th>Pension Type</th>\n",
       "      <th>Discount Type</th>\n",
       "      <th>Pension Amount</th>\n",
       "      <th>Past Unpaid Amount</th>\n",
       "      <th>One Time Payment</th>\n",
       "      <th>Deduction</th>\n",
       "      <th>Automated</th>\n",
       "      <th>City</th>\n",
       "      <th>Death Date</th>\n",
       "      <th>Works</th>\n",
       "      <th>Until 1992</th>\n",
       "      <th>1992-2006</th>\n",
       "      <th>Capital</th>\n",
       "      <th>Acquisition Date</th>\n",
       "    </tr>\n",
       "  </thead>\n",
       "  <tbody>\n",
       "    <tr>\n",
       "      <th>0</th>\n",
       "      <td>1CF2SB6</td>\n",
       "      <td>Male</td>\n",
       "      <td>18.04.1952</td>\n",
       "      <td>BAKI</td>\n",
       "      <td>AGE</td>\n",
       "      <td>Age</td>\n",
       "      <td>259.7846</td>\n",
       "      <td>0.0</td>\n",
       "      <td>0.0</td>\n",
       "      <td>0.0</td>\n",
       "      <td>No</td>\n",
       "      <td>Bakı-Binəqədi</td>\n",
       "      <td>NaN</td>\n",
       "      <td>No</td>\n",
       "      <td>7.311111</td>\n",
       "      <td>14.000000</td>\n",
       "      <td>0.0000</td>\n",
       "      <td>24.04.2015</td>\n",
       "    </tr>\n",
       "    <tr>\n",
       "      <th>1</th>\n",
       "      <td>1W4960E</td>\n",
       "      <td>Female</td>\n",
       "      <td>05.08.1954</td>\n",
       "      <td>XAÇMAZ</td>\n",
       "      <td>AGE</td>\n",
       "      <td>Age</td>\n",
       "      <td>259.7846</td>\n",
       "      <td>0.0</td>\n",
       "      <td>0.0</td>\n",
       "      <td>0.0</td>\n",
       "      <td>No</td>\n",
       "      <td>Xaçmaz</td>\n",
       "      <td>NaN</td>\n",
       "      <td>No</td>\n",
       "      <td>18.000000</td>\n",
       "      <td>8.583333</td>\n",
       "      <td>0.0000</td>\n",
       "      <td>09.08.2013</td>\n",
       "    </tr>\n",
       "    <tr>\n",
       "      <th>2</th>\n",
       "      <td>2FQ3NBS</td>\n",
       "      <td>Female</td>\n",
       "      <td>01.07.1938</td>\n",
       "      <td>FÜZULİ</td>\n",
       "      <td>AGE</td>\n",
       "      <td>Age</td>\n",
       "      <td>259.7846</td>\n",
       "      <td>0.0</td>\n",
       "      <td>0.0</td>\n",
       "      <td>0.0</td>\n",
       "      <td>No</td>\n",
       "      <td>Füzuli</td>\n",
       "      <td>NaN</td>\n",
       "      <td>No</td>\n",
       "      <td>25.000000</td>\n",
       "      <td>0.000000</td>\n",
       "      <td>0.0000</td>\n",
       "      <td>01.07.1993</td>\n",
       "    </tr>\n",
       "    <tr>\n",
       "      <th>3</th>\n",
       "      <td>48UFVWY</td>\n",
       "      <td>Male</td>\n",
       "      <td>15.06.1954</td>\n",
       "      <td>BAKI</td>\n",
       "      <td>AGE</td>\n",
       "      <td>Age</td>\n",
       "      <td>259.7845</td>\n",
       "      <td>0.0</td>\n",
       "      <td>0.0</td>\n",
       "      <td>0.0</td>\n",
       "      <td>No</td>\n",
       "      <td>Bakı-Binəqədi</td>\n",
       "      <td>NaN</td>\n",
       "      <td>Yes</td>\n",
       "      <td>0.000000</td>\n",
       "      <td>0.000000</td>\n",
       "      <td>1909.1619</td>\n",
       "      <td>15.06.2017</td>\n",
       "    </tr>\n",
       "    <tr>\n",
       "      <th>4</th>\n",
       "      <td>1QRTQ0X</td>\n",
       "      <td>Male</td>\n",
       "      <td>01.07.1944</td>\n",
       "      <td>İMİŞLİ</td>\n",
       "      <td>AGE</td>\n",
       "      <td>Age</td>\n",
       "      <td>394.4104</td>\n",
       "      <td>0.0</td>\n",
       "      <td>0.0</td>\n",
       "      <td>0.0</td>\n",
       "      <td>No</td>\n",
       "      <td>İmişli</td>\n",
       "      <td>NaN</td>\n",
       "      <td>No</td>\n",
       "      <td>28.000000</td>\n",
       "      <td>14.000000</td>\n",
       "      <td>0.0000</td>\n",
       "      <td>30.06.2006</td>\n",
       "    </tr>\n",
       "  </tbody>\n",
       "</table>\n",
       "</div>"
      ],
      "text/plain": [
       "       PIN     Sex    Birthday Address Pension Type Discount Type  \\\n",
       "0  1CF2SB6    Male  18.04.1952    BAKI          AGE           Age   \n",
       "1  1W4960E  Female  05.08.1954  XAÇMAZ          AGE           Age   \n",
       "2  2FQ3NBS  Female  01.07.1938  FÜZULİ          AGE           Age   \n",
       "3  48UFVWY    Male  15.06.1954    BAKI          AGE           Age   \n",
       "4  1QRTQ0X    Male  01.07.1944  İMİŞLİ          AGE           Age   \n",
       "\n",
       "   Pension Amount  Past Unpaid Amount  One Time Payment  Deduction Automated  \\\n",
       "0        259.7846                 0.0               0.0        0.0        No   \n",
       "1        259.7846                 0.0               0.0        0.0        No   \n",
       "2        259.7846                 0.0               0.0        0.0        No   \n",
       "3        259.7845                 0.0               0.0        0.0        No   \n",
       "4        394.4104                 0.0               0.0        0.0        No   \n",
       "\n",
       "            City Death Date Works  Until 1992  1992-2006    Capital  \\\n",
       "0  Bakı-Binəqədi        NaN    No    7.311111  14.000000     0.0000   \n",
       "1         Xaçmaz        NaN    No   18.000000   8.583333     0.0000   \n",
       "2         Füzuli        NaN    No   25.000000   0.000000     0.0000   \n",
       "3  Bakı-Binəqədi        NaN   Yes    0.000000   0.000000  1909.1619   \n",
       "4         İmişli        NaN    No   28.000000  14.000000     0.0000   \n",
       "\n",
       "  Acquisition Date  \n",
       "0       24.04.2015  \n",
       "1       09.08.2013  \n",
       "2       01.07.1993  \n",
       "3       15.06.2017  \n",
       "4       30.06.2006  "
      ]
     },
     "execution_count": 11,
     "metadata": {},
     "output_type": "execute_result"
    }
   ],
   "source": [
    "df1.head()"
   ]
  },
  {
   "cell_type": "code",
   "execution_count": 12,
   "id": "a170ff32",
   "metadata": {},
   "outputs": [],
   "source": [
    "# df2.head()"
   ]
  },
  {
   "cell_type": "code",
   "execution_count": 13,
   "id": "33112a9d",
   "metadata": {
    "scrolled": true
   },
   "outputs": [],
   "source": [
    "# df3.head()"
   ]
  },
  {
   "cell_type": "code",
   "execution_count": 14,
   "id": "6b838226",
   "metadata": {},
   "outputs": [
    {
     "name": "stdout",
     "output_type": "stream",
     "text": [
      "<class 'pandas.core.frame.DataFrame'>\n",
      "RangeIndex: 633200 entries, 0 to 633199\n",
      "Data columns (total 18 columns):\n",
      " #   Column              Non-Null Count   Dtype  \n",
      "---  ------              --------------   -----  \n",
      " 0   PIN                 633194 non-null  object \n",
      " 1   Sex                 633194 non-null  object \n",
      " 2   Birthday            633194 non-null  object \n",
      " 3   Address             631764 non-null  object \n",
      " 4   Pension Type        633194 non-null  object \n",
      " 5   Discount Type       633194 non-null  object \n",
      " 6   Pension Amount      633194 non-null  float64\n",
      " 7   Past Unpaid Amount  633194 non-null  float64\n",
      " 8   One Time Payment    633194 non-null  float64\n",
      " 9   Deduction           633194 non-null  float64\n",
      " 10  Automated           633194 non-null  object \n",
      " 11  City                633194 non-null  object \n",
      " 12  Death Date          67 non-null      object \n",
      " 13  Works               633194 non-null  object \n",
      " 14  Until 1992          629303 non-null  float64\n",
      " 15  1992-2006           629303 non-null  float64\n",
      " 16  Capital             632810 non-null  float64\n",
      " 17  Acquisition Date    633194 non-null  object \n",
      "dtypes: float64(7), object(11)\n",
      "memory usage: 87.0+ MB\n"
     ]
    }
   ],
   "source": [
    "df1.info()"
   ]
  },
  {
   "cell_type": "code",
   "execution_count": 125,
   "id": "846ee2b6",
   "metadata": {},
   "outputs": [],
   "source": [
    "df1.dropna(\n",
    "    axis=0,\n",
    "    how='any',\n",
    "    inplace=True\n",
    ")"
   ]
  },
  {
   "cell_type": "code",
   "execution_count": 126,
   "id": "79cfd2b6",
   "metadata": {},
   "outputs": [
    {
     "data": {
      "text/plain": [
       "PIN                   0\n",
       "Sex                   0\n",
       "Birthday              0\n",
       "Address               0\n",
       "Pension Type          0\n",
       "Discount Type         0\n",
       "Pension Amount        0\n",
       "Past Unpaid Amount    0\n",
       "One Time Payment      0\n",
       "Deduction             0\n",
       "Automated             0\n",
       "City                  0\n",
       "Works                 0\n",
       "Until 1992            0\n",
       "1992-2006             0\n",
       "Capital               0\n",
       "Acquisition Date      0\n",
       "dtype: int64"
      ]
     },
     "execution_count": 126,
     "metadata": {},
     "output_type": "execute_result"
    }
   ],
   "source": [
    "df1.isnull().sum()"
   ]
  },
  {
   "cell_type": "code",
   "execution_count": 128,
   "id": "c02b7699",
   "metadata": {},
   "outputs": [
    {
     "name": "stdout",
     "output_type": "stream",
     "text": [
      "<class 'pandas.core.frame.DataFrame'>\n",
      "Int64Index: 631764 entries, 0 to 633193\n",
      "Data columns (total 17 columns):\n",
      " #   Column              Non-Null Count   Dtype         \n",
      "---  ------              --------------   -----         \n",
      " 0   PIN                 631764 non-null  object        \n",
      " 1   Sex                 631764 non-null  object        \n",
      " 2   Birthday            631764 non-null  datetime64[ns]\n",
      " 3   Address             631764 non-null  object        \n",
      " 4   Pension Type        631764 non-null  object        \n",
      " 5   Discount Type       631764 non-null  object        \n",
      " 6   Pension Amount      631764 non-null  float64       \n",
      " 7   Past Unpaid Amount  631764 non-null  float64       \n",
      " 8   One Time Payment    631764 non-null  float64       \n",
      " 9   Deduction           631764 non-null  float64       \n",
      " 10  Automated           631764 non-null  object        \n",
      " 11  City                631764 non-null  object        \n",
      " 12  Works               631764 non-null  object        \n",
      " 13  Until 1992          631764 non-null  float64       \n",
      " 14  1992-2006           631764 non-null  float64       \n",
      " 15  Capital             631764 non-null  float64       \n",
      " 16  Acquisition Date    631764 non-null  object        \n",
      "dtypes: datetime64[ns](1), float64(7), object(9)\n",
      "memory usage: 86.8+ MB\n"
     ]
    }
   ],
   "source": [
    "df1.info()"
   ]
  },
  {
   "cell_type": "code",
   "execution_count": 15,
   "id": "317961d9",
   "metadata": {},
   "outputs": [],
   "source": [
    "df1 = df1.drop('Death Date', 1)"
   ]
  },
  {
   "cell_type": "code",
   "execution_count": 16,
   "id": "f2beb78f",
   "metadata": {},
   "outputs": [
    {
     "data": {
      "text/html": [
       "<div>\n",
       "<style scoped>\n",
       "    .dataframe tbody tr th:only-of-type {\n",
       "        vertical-align: middle;\n",
       "    }\n",
       "\n",
       "    .dataframe tbody tr th {\n",
       "        vertical-align: top;\n",
       "    }\n",
       "\n",
       "    .dataframe thead th {\n",
       "        text-align: right;\n",
       "    }\n",
       "</style>\n",
       "<table border=\"1\" class=\"dataframe\">\n",
       "  <thead>\n",
       "    <tr style=\"text-align: right;\">\n",
       "      <th></th>\n",
       "      <th>PIN</th>\n",
       "      <th>Sex</th>\n",
       "      <th>Birthday</th>\n",
       "      <th>Address</th>\n",
       "      <th>Pension Type</th>\n",
       "      <th>Discount Type</th>\n",
       "      <th>Pension Amount</th>\n",
       "      <th>Past Unpaid Amount</th>\n",
       "      <th>One Time Payment</th>\n",
       "      <th>Deduction</th>\n",
       "      <th>Automated</th>\n",
       "      <th>City</th>\n",
       "      <th>Works</th>\n",
       "      <th>Until 1992</th>\n",
       "      <th>1992-2006</th>\n",
       "      <th>Capital</th>\n",
       "      <th>Acquisition Date</th>\n",
       "    </tr>\n",
       "  </thead>\n",
       "  <tbody>\n",
       "    <tr>\n",
       "      <th>0</th>\n",
       "      <td>1CF2SB6</td>\n",
       "      <td>Male</td>\n",
       "      <td>18.04.1952</td>\n",
       "      <td>BAKI</td>\n",
       "      <td>AGE</td>\n",
       "      <td>Age</td>\n",
       "      <td>259.7846</td>\n",
       "      <td>0.0</td>\n",
       "      <td>0.0</td>\n",
       "      <td>0.0</td>\n",
       "      <td>No</td>\n",
       "      <td>Bakı-Binəqədi</td>\n",
       "      <td>No</td>\n",
       "      <td>7.311111</td>\n",
       "      <td>14.000000</td>\n",
       "      <td>0.0000</td>\n",
       "      <td>24.04.2015</td>\n",
       "    </tr>\n",
       "    <tr>\n",
       "      <th>1</th>\n",
       "      <td>1W4960E</td>\n",
       "      <td>Female</td>\n",
       "      <td>05.08.1954</td>\n",
       "      <td>XAÇMAZ</td>\n",
       "      <td>AGE</td>\n",
       "      <td>Age</td>\n",
       "      <td>259.7846</td>\n",
       "      <td>0.0</td>\n",
       "      <td>0.0</td>\n",
       "      <td>0.0</td>\n",
       "      <td>No</td>\n",
       "      <td>Xaçmaz</td>\n",
       "      <td>No</td>\n",
       "      <td>18.000000</td>\n",
       "      <td>8.583333</td>\n",
       "      <td>0.0000</td>\n",
       "      <td>09.08.2013</td>\n",
       "    </tr>\n",
       "    <tr>\n",
       "      <th>2</th>\n",
       "      <td>2FQ3NBS</td>\n",
       "      <td>Female</td>\n",
       "      <td>01.07.1938</td>\n",
       "      <td>FÜZULİ</td>\n",
       "      <td>AGE</td>\n",
       "      <td>Age</td>\n",
       "      <td>259.7846</td>\n",
       "      <td>0.0</td>\n",
       "      <td>0.0</td>\n",
       "      <td>0.0</td>\n",
       "      <td>No</td>\n",
       "      <td>Füzuli</td>\n",
       "      <td>No</td>\n",
       "      <td>25.000000</td>\n",
       "      <td>0.000000</td>\n",
       "      <td>0.0000</td>\n",
       "      <td>01.07.1993</td>\n",
       "    </tr>\n",
       "    <tr>\n",
       "      <th>3</th>\n",
       "      <td>48UFVWY</td>\n",
       "      <td>Male</td>\n",
       "      <td>15.06.1954</td>\n",
       "      <td>BAKI</td>\n",
       "      <td>AGE</td>\n",
       "      <td>Age</td>\n",
       "      <td>259.7845</td>\n",
       "      <td>0.0</td>\n",
       "      <td>0.0</td>\n",
       "      <td>0.0</td>\n",
       "      <td>No</td>\n",
       "      <td>Bakı-Binəqədi</td>\n",
       "      <td>Yes</td>\n",
       "      <td>0.000000</td>\n",
       "      <td>0.000000</td>\n",
       "      <td>1909.1619</td>\n",
       "      <td>15.06.2017</td>\n",
       "    </tr>\n",
       "    <tr>\n",
       "      <th>4</th>\n",
       "      <td>1QRTQ0X</td>\n",
       "      <td>Male</td>\n",
       "      <td>01.07.1944</td>\n",
       "      <td>İMİŞLİ</td>\n",
       "      <td>AGE</td>\n",
       "      <td>Age</td>\n",
       "      <td>394.4104</td>\n",
       "      <td>0.0</td>\n",
       "      <td>0.0</td>\n",
       "      <td>0.0</td>\n",
       "      <td>No</td>\n",
       "      <td>İmişli</td>\n",
       "      <td>No</td>\n",
       "      <td>28.000000</td>\n",
       "      <td>14.000000</td>\n",
       "      <td>0.0000</td>\n",
       "      <td>30.06.2006</td>\n",
       "    </tr>\n",
       "  </tbody>\n",
       "</table>\n",
       "</div>"
      ],
      "text/plain": [
       "       PIN     Sex    Birthday Address Pension Type Discount Type  \\\n",
       "0  1CF2SB6    Male  18.04.1952    BAKI          AGE           Age   \n",
       "1  1W4960E  Female  05.08.1954  XAÇMAZ          AGE           Age   \n",
       "2  2FQ3NBS  Female  01.07.1938  FÜZULİ          AGE           Age   \n",
       "3  48UFVWY    Male  15.06.1954    BAKI          AGE           Age   \n",
       "4  1QRTQ0X    Male  01.07.1944  İMİŞLİ          AGE           Age   \n",
       "\n",
       "   Pension Amount  Past Unpaid Amount  One Time Payment  Deduction Automated  \\\n",
       "0        259.7846                 0.0               0.0        0.0        No   \n",
       "1        259.7846                 0.0               0.0        0.0        No   \n",
       "2        259.7846                 0.0               0.0        0.0        No   \n",
       "3        259.7845                 0.0               0.0        0.0        No   \n",
       "4        394.4104                 0.0               0.0        0.0        No   \n",
       "\n",
       "            City Works  Until 1992  1992-2006    Capital Acquisition Date  \n",
       "0  Bakı-Binəqədi    No    7.311111  14.000000     0.0000       24.04.2015  \n",
       "1         Xaçmaz    No   18.000000   8.583333     0.0000       09.08.2013  \n",
       "2         Füzuli    No   25.000000   0.000000     0.0000       01.07.1993  \n",
       "3  Bakı-Binəqədi   Yes    0.000000   0.000000  1909.1619       15.06.2017  \n",
       "4         İmişli    No   28.000000  14.000000     0.0000       30.06.2006  "
      ]
     },
     "execution_count": 16,
     "metadata": {},
     "output_type": "execute_result"
    }
   ],
   "source": [
    "df1.head()"
   ]
  },
  {
   "cell_type": "code",
   "execution_count": 17,
   "id": "9c95fd8a",
   "metadata": {},
   "outputs": [],
   "source": [
    "df1['Until 1992'] = df1['Until 1992'].fillna(df1['Until 1992'].mode()[0])"
   ]
  },
  {
   "cell_type": "code",
   "execution_count": 18,
   "id": "2c6526af",
   "metadata": {},
   "outputs": [],
   "source": [
    "df1['1992-2006'] = df1['1992-2006'].fillna(df1['1992-2006'].mode()[0])"
   ]
  },
  {
   "cell_type": "code",
   "execution_count": 19,
   "id": "a84c46b9",
   "metadata": {},
   "outputs": [],
   "source": [
    "df1['Capital'] = df1['Capital'].fillna(df1['Capital'].mode()[0])"
   ]
  },
  {
   "cell_type": "code",
   "execution_count": 20,
   "id": "c970dfa3",
   "metadata": {},
   "outputs": [],
   "source": [
    "df1['Birthday'] = pd.to_datetime(df1['Birthday'])"
   ]
  },
  {
   "cell_type": "code",
   "execution_count": 136,
   "id": "8302d277",
   "metadata": {},
   "outputs": [],
   "source": [
    "df1['Acquisition Date'] = pd.to_datetime(df1['Acquisition Date'])"
   ]
  },
  {
   "cell_type": "code",
   "execution_count": 22,
   "id": "c56dcfad",
   "metadata": {},
   "outputs": [
    {
     "data": {
      "text/html": [
       "<div>\n",
       "<style scoped>\n",
       "    .dataframe tbody tr th:only-of-type {\n",
       "        vertical-align: middle;\n",
       "    }\n",
       "\n",
       "    .dataframe tbody tr th {\n",
       "        vertical-align: top;\n",
       "    }\n",
       "\n",
       "    .dataframe thead th {\n",
       "        text-align: right;\n",
       "    }\n",
       "</style>\n",
       "<table border=\"1\" class=\"dataframe\">\n",
       "  <thead>\n",
       "    <tr style=\"text-align: right;\">\n",
       "      <th></th>\n",
       "      <th>PIN</th>\n",
       "      <th>Sex</th>\n",
       "      <th>Birthday</th>\n",
       "      <th>Address</th>\n",
       "      <th>Pension Type</th>\n",
       "      <th>Discount Type</th>\n",
       "      <th>Pension Amount</th>\n",
       "      <th>Past Unpaid Amount</th>\n",
       "      <th>One Time Payment</th>\n",
       "      <th>Deduction</th>\n",
       "      <th>Automated</th>\n",
       "      <th>City</th>\n",
       "      <th>Works</th>\n",
       "      <th>Until 1992</th>\n",
       "      <th>1992-2006</th>\n",
       "      <th>Capital</th>\n",
       "      <th>Acquisition Date</th>\n",
       "    </tr>\n",
       "  </thead>\n",
       "  <tbody>\n",
       "    <tr>\n",
       "      <th>0</th>\n",
       "      <td>1CF2SB6</td>\n",
       "      <td>Male</td>\n",
       "      <td>1952-04-18</td>\n",
       "      <td>BAKI</td>\n",
       "      <td>AGE</td>\n",
       "      <td>Age</td>\n",
       "      <td>259.7846</td>\n",
       "      <td>0.0</td>\n",
       "      <td>0.0</td>\n",
       "      <td>0.0</td>\n",
       "      <td>No</td>\n",
       "      <td>Bakı-Binəqədi</td>\n",
       "      <td>No</td>\n",
       "      <td>7.311111</td>\n",
       "      <td>14.000000</td>\n",
       "      <td>0.0000</td>\n",
       "      <td>24.04.2015</td>\n",
       "    </tr>\n",
       "    <tr>\n",
       "      <th>1</th>\n",
       "      <td>1W4960E</td>\n",
       "      <td>Female</td>\n",
       "      <td>1954-05-08</td>\n",
       "      <td>XAÇMAZ</td>\n",
       "      <td>AGE</td>\n",
       "      <td>Age</td>\n",
       "      <td>259.7846</td>\n",
       "      <td>0.0</td>\n",
       "      <td>0.0</td>\n",
       "      <td>0.0</td>\n",
       "      <td>No</td>\n",
       "      <td>Xaçmaz</td>\n",
       "      <td>No</td>\n",
       "      <td>18.000000</td>\n",
       "      <td>8.583333</td>\n",
       "      <td>0.0000</td>\n",
       "      <td>09.08.2013</td>\n",
       "    </tr>\n",
       "    <tr>\n",
       "      <th>2</th>\n",
       "      <td>2FQ3NBS</td>\n",
       "      <td>Female</td>\n",
       "      <td>1938-01-07</td>\n",
       "      <td>FÜZULİ</td>\n",
       "      <td>AGE</td>\n",
       "      <td>Age</td>\n",
       "      <td>259.7846</td>\n",
       "      <td>0.0</td>\n",
       "      <td>0.0</td>\n",
       "      <td>0.0</td>\n",
       "      <td>No</td>\n",
       "      <td>Füzuli</td>\n",
       "      <td>No</td>\n",
       "      <td>25.000000</td>\n",
       "      <td>0.000000</td>\n",
       "      <td>0.0000</td>\n",
       "      <td>01.07.1993</td>\n",
       "    </tr>\n",
       "    <tr>\n",
       "      <th>3</th>\n",
       "      <td>48UFVWY</td>\n",
       "      <td>Male</td>\n",
       "      <td>1954-06-15</td>\n",
       "      <td>BAKI</td>\n",
       "      <td>AGE</td>\n",
       "      <td>Age</td>\n",
       "      <td>259.7845</td>\n",
       "      <td>0.0</td>\n",
       "      <td>0.0</td>\n",
       "      <td>0.0</td>\n",
       "      <td>No</td>\n",
       "      <td>Bakı-Binəqədi</td>\n",
       "      <td>Yes</td>\n",
       "      <td>0.000000</td>\n",
       "      <td>0.000000</td>\n",
       "      <td>1909.1619</td>\n",
       "      <td>15.06.2017</td>\n",
       "    </tr>\n",
       "    <tr>\n",
       "      <th>4</th>\n",
       "      <td>1QRTQ0X</td>\n",
       "      <td>Male</td>\n",
       "      <td>1944-01-07</td>\n",
       "      <td>İMİŞLİ</td>\n",
       "      <td>AGE</td>\n",
       "      <td>Age</td>\n",
       "      <td>394.4104</td>\n",
       "      <td>0.0</td>\n",
       "      <td>0.0</td>\n",
       "      <td>0.0</td>\n",
       "      <td>No</td>\n",
       "      <td>İmişli</td>\n",
       "      <td>No</td>\n",
       "      <td>28.000000</td>\n",
       "      <td>14.000000</td>\n",
       "      <td>0.0000</td>\n",
       "      <td>30.06.2006</td>\n",
       "    </tr>\n",
       "  </tbody>\n",
       "</table>\n",
       "</div>"
      ],
      "text/plain": [
       "       PIN     Sex   Birthday Address Pension Type Discount Type  \\\n",
       "0  1CF2SB6    Male 1952-04-18    BAKI          AGE           Age   \n",
       "1  1W4960E  Female 1954-05-08  XAÇMAZ          AGE           Age   \n",
       "2  2FQ3NBS  Female 1938-01-07  FÜZULİ          AGE           Age   \n",
       "3  48UFVWY    Male 1954-06-15    BAKI          AGE           Age   \n",
       "4  1QRTQ0X    Male 1944-01-07  İMİŞLİ          AGE           Age   \n",
       "\n",
       "   Pension Amount  Past Unpaid Amount  One Time Payment  Deduction Automated  \\\n",
       "0        259.7846                 0.0               0.0        0.0        No   \n",
       "1        259.7846                 0.0               0.0        0.0        No   \n",
       "2        259.7846                 0.0               0.0        0.0        No   \n",
       "3        259.7845                 0.0               0.0        0.0        No   \n",
       "4        394.4104                 0.0               0.0        0.0        No   \n",
       "\n",
       "            City Works  Until 1992  1992-2006    Capital Acquisition Date  \n",
       "0  Bakı-Binəqədi    No    7.311111  14.000000     0.0000       24.04.2015  \n",
       "1         Xaçmaz    No   18.000000   8.583333     0.0000       09.08.2013  \n",
       "2         Füzuli    No   25.000000   0.000000     0.0000       01.07.1993  \n",
       "3  Bakı-Binəqədi   Yes    0.000000   0.000000  1909.1619       15.06.2017  \n",
       "4         İmişli    No   28.000000  14.000000     0.0000       30.06.2006  "
      ]
     },
     "execution_count": 22,
     "metadata": {},
     "output_type": "execute_result"
    }
   ],
   "source": [
    "df1.head()"
   ]
  },
  {
   "cell_type": "code",
   "execution_count": 137,
   "id": "8c8cde91",
   "metadata": {},
   "outputs": [
    {
     "data": {
      "text/plain": [
       "PIN                           object\n",
       "Sex                           object\n",
       "Birthday              datetime64[ns]\n",
       "Address                       object\n",
       "Pension Type                  object\n",
       "Discount Type                 object\n",
       "Pension Amount               float64\n",
       "Past Unpaid Amount           float64\n",
       "One Time Payment             float64\n",
       "Deduction                    float64\n",
       "Automated                     object\n",
       "City                          object\n",
       "Works                         object\n",
       "Until 1992                   float64\n",
       "1992-2006                    float64\n",
       "Capital                      float64\n",
       "Acquisition Date      datetime64[ns]\n",
       "dtype: object"
      ]
     },
     "execution_count": 137,
     "metadata": {},
     "output_type": "execute_result"
    }
   ],
   "source": [
    "df1.dtypes"
   ]
  },
  {
   "cell_type": "code",
   "execution_count": 24,
   "id": "0cd595a2",
   "metadata": {},
   "outputs": [
    {
     "data": {
      "text/plain": [
       "326.6573825001014"
      ]
     },
     "execution_count": 24,
     "metadata": {},
     "output_type": "execute_result"
    }
   ],
   "source": [
    "df1[\"Pension Amount\"].mean()"
   ]
  },
  {
   "cell_type": "code",
   "execution_count": 25,
   "id": "0f582ed4",
   "metadata": {},
   "outputs": [],
   "source": [
    "#df2[\"Pension Amount\"].mean()"
   ]
  },
  {
   "cell_type": "code",
   "execution_count": 26,
   "id": "4e9f7c3b",
   "metadata": {
    "scrolled": true
   },
   "outputs": [],
   "source": [
    "#df3[\"Pension Amount\"].mean()"
   ]
  },
  {
   "cell_type": "code",
   "execution_count": 27,
   "id": "143bb685",
   "metadata": {},
   "outputs": [],
   "source": [
    "# avg_pensions = [['AGE', df1[\"Pension Amount\"].mean()], ['Disability', df2[\"Pension Amount\"].mean()], \n",
    "#                ['LFM', df3[\"Pension Amount\"].mean()]]"
   ]
  },
  {
   "cell_type": "code",
   "execution_count": 28,
   "id": "e9090c86",
   "metadata": {},
   "outputs": [],
   "source": [
    "#avg_pensions"
   ]
  },
  {
   "cell_type": "code",
   "execution_count": 29,
   "id": "c66e0d22",
   "metadata": {
    "scrolled": true
   },
   "outputs": [
    {
     "data": {
      "text/plain": [
       "Sex\n",
       "Female    298.591527\n",
       "Male      380.551483\n",
       "Name: Pension Amount, dtype: float64"
      ]
     },
     "execution_count": 29,
     "metadata": {},
     "output_type": "execute_result"
    }
   ],
   "source": [
    "df1.groupby(by = 'Sex')['Pension Amount'].mean()"
   ]
  },
  {
   "cell_type": "code",
   "execution_count": 30,
   "id": "9274ff9b",
   "metadata": {},
   "outputs": [],
   "source": [
    "#df2.groupby(by = 'Sex')['Pension Amount'].mean()"
   ]
  },
  {
   "cell_type": "code",
   "execution_count": 31,
   "id": "6662a78f",
   "metadata": {},
   "outputs": [],
   "source": [
    "#df3.groupby(by = 'Sex')['Pension Amount'].mean()"
   ]
  },
  {
   "cell_type": "code",
   "execution_count": 32,
   "id": "e42bca19",
   "metadata": {
    "scrolled": true
   },
   "outputs": [
    {
     "data": {
      "text/html": [
       "<div>\n",
       "<style scoped>\n",
       "    .dataframe tbody tr th:only-of-type {\n",
       "        vertical-align: middle;\n",
       "    }\n",
       "\n",
       "    .dataframe tbody tr th {\n",
       "        vertical-align: top;\n",
       "    }\n",
       "\n",
       "    .dataframe thead th {\n",
       "        text-align: right;\n",
       "    }\n",
       "</style>\n",
       "<table border=\"1\" class=\"dataframe\">\n",
       "  <thead>\n",
       "    <tr style=\"text-align: right;\">\n",
       "      <th></th>\n",
       "      <th>PIN</th>\n",
       "      <th>Sex</th>\n",
       "      <th>Birthday</th>\n",
       "      <th>Address</th>\n",
       "      <th>Pension Type</th>\n",
       "      <th>Discount Type</th>\n",
       "      <th>Pension Amount</th>\n",
       "      <th>Past Unpaid Amount</th>\n",
       "      <th>One Time Payment</th>\n",
       "      <th>Deduction</th>\n",
       "      <th>Automated</th>\n",
       "      <th>City</th>\n",
       "      <th>Works</th>\n",
       "      <th>Until 1992</th>\n",
       "      <th>1992-2006</th>\n",
       "      <th>Capital</th>\n",
       "      <th>Acquisition Date</th>\n",
       "    </tr>\n",
       "  </thead>\n",
       "  <tbody>\n",
       "    <tr>\n",
       "      <th>0</th>\n",
       "      <td>1CF2SB6</td>\n",
       "      <td>Male</td>\n",
       "      <td>1952-04-18</td>\n",
       "      <td>BAKI</td>\n",
       "      <td>AGE</td>\n",
       "      <td>Age</td>\n",
       "      <td>259.7846</td>\n",
       "      <td>0.0</td>\n",
       "      <td>0.0</td>\n",
       "      <td>0.0</td>\n",
       "      <td>No</td>\n",
       "      <td>Bakı-Binəqədi</td>\n",
       "      <td>No</td>\n",
       "      <td>7.311111</td>\n",
       "      <td>14.000000</td>\n",
       "      <td>0.0</td>\n",
       "      <td>24.04.2015</td>\n",
       "    </tr>\n",
       "    <tr>\n",
       "      <th>1</th>\n",
       "      <td>1W4960E</td>\n",
       "      <td>Female</td>\n",
       "      <td>1954-05-08</td>\n",
       "      <td>XAÇMAZ</td>\n",
       "      <td>AGE</td>\n",
       "      <td>Age</td>\n",
       "      <td>259.7846</td>\n",
       "      <td>0.0</td>\n",
       "      <td>0.0</td>\n",
       "      <td>0.0</td>\n",
       "      <td>No</td>\n",
       "      <td>Xaçmaz</td>\n",
       "      <td>No</td>\n",
       "      <td>18.000000</td>\n",
       "      <td>8.583333</td>\n",
       "      <td>0.0</td>\n",
       "      <td>09.08.2013</td>\n",
       "    </tr>\n",
       "  </tbody>\n",
       "</table>\n",
       "</div>"
      ],
      "text/plain": [
       "       PIN     Sex   Birthday Address Pension Type Discount Type  \\\n",
       "0  1CF2SB6    Male 1952-04-18    BAKI          AGE           Age   \n",
       "1  1W4960E  Female 1954-05-08  XAÇMAZ          AGE           Age   \n",
       "\n",
       "   Pension Amount  Past Unpaid Amount  One Time Payment  Deduction Automated  \\\n",
       "0        259.7846                 0.0               0.0        0.0        No   \n",
       "1        259.7846                 0.0               0.0        0.0        No   \n",
       "\n",
       "            City Works  Until 1992  1992-2006  Capital Acquisition Date  \n",
       "0  Bakı-Binəqədi    No    7.311111  14.000000      0.0       24.04.2015  \n",
       "1         Xaçmaz    No   18.000000   8.583333      0.0       09.08.2013  "
      ]
     },
     "execution_count": 32,
     "metadata": {},
     "output_type": "execute_result"
    }
   ],
   "source": [
    "df1.head(2)"
   ]
  },
  {
   "cell_type": "code",
   "execution_count": 33,
   "id": "1f3e01b4",
   "metadata": {},
   "outputs": [
    {
     "data": {
      "text/plain": [
       "PIN                      6\n",
       "Sex                      6\n",
       "Birthday                 6\n",
       "Address               1436\n",
       "Pension Type             6\n",
       "Discount Type            6\n",
       "Pension Amount           6\n",
       "Past Unpaid Amount       6\n",
       "One Time Payment         6\n",
       "Deduction                6\n",
       "Automated                6\n",
       "City                     6\n",
       "Works                    6\n",
       "Until 1992               0\n",
       "1992-2006                0\n",
       "Capital                  0\n",
       "Acquisition Date         6\n",
       "dtype: int64"
      ]
     },
     "execution_count": 33,
     "metadata": {},
     "output_type": "execute_result"
    }
   ],
   "source": [
    "df1.isnull().sum()"
   ]
  },
  {
   "cell_type": "code",
   "execution_count": 34,
   "id": "da7a548a",
   "metadata": {
    "scrolled": true
   },
   "outputs": [
    {
     "data": {
      "text/plain": [
       "Xüsusi Şərtlərlə Təyinat üzrə Mərkəzi Filial    52793\n",
       "Sumqayıt                                        22489\n",
       "Bakı-Xətai                                      21911\n",
       "Bakı-Yasamal                                    21177\n",
       "Bakı-Binəqədi                                   19600\n",
       "                                                ...  \n",
       "Bakı-Pirallahı                                   1087\n",
       "Xızı                                              829\n",
       "Naftalan                                          793\n",
       "Xocavənd                                          492\n",
       "Xocalı                                            198\n",
       "Name: City, Length: 78, dtype: int64"
      ]
     },
     "execution_count": 34,
     "metadata": {},
     "output_type": "execute_result"
    }
   ],
   "source": [
    "df1['City'].value_counts()"
   ]
  },
  {
   "cell_type": "code",
   "execution_count": 35,
   "id": "c9dcba71",
   "metadata": {
    "scrolled": true
   },
   "outputs": [
    {
     "data": {
      "image/png": "[encoded data removed]",
      "text/plain": [
       "<Figure size 432x288 with 1 Axes>"
      ]
     },
     "metadata": {
      "needs_background": "light"
     },
     "output_type": "display_data"
    }
   ],
   "source": [
    "sns.countplot(x=df1.groupby(by = 'Sex')['Pension Amount'].mean(), data=df1,).set(title = 'Distribution of pensions by sex');"
   ]
  },
  {
   "cell_type": "code",
   "execution_count": 135,
   "id": "3cfdc3d1",
   "metadata": {},
   "outputs": [
    {
     "data": {
      "image/png": "[encoded data removed]",
      "text/plain": [
       "<Figure size 936x432 with 1 Axes>"
      ]
     },
     "metadata": {
      "needs_background": "light"
     },
     "output_type": "display_data"
    }
   ],
   "source": [
    "plt.figure(figsize=(13,6))\n",
    "sns.countplot(x=\"Sex\", data=df1,hue=\"City\").set(title = 'Distribution of income by race');"
   ]
  },
  {
   "cell_type": "code",
   "execution_count": 134,
   "id": "bb794670",
   "metadata": {},
   "outputs": [
    {
     "data": {
      "image/png": "[encoded data removed]",
      "text/plain": [
       "<Figure size 864x360 with 1 Axes>"
      ]
     },
     "metadata": {
      "needs_background": "light"
     },
     "output_type": "display_data"
    }
   ],
   "source": [
    "plt.figure(figsize=(12,5))\n",
    "sns.kdeplot(df1['Birthday'], shade=True, color='green');"
   ]
  },
  {
   "cell_type": "code",
   "execution_count": 138,
   "id": "f12debb0",
   "metadata": {},
   "outputs": [
    {
     "data": {
      "image/png": "[encoded data removed]",
      "text/plain": [
       "<Figure size 864x360 with 1 Axes>"
      ]
     },
     "metadata": {
      "needs_background": "light"
     },
     "output_type": "display_data"
    }
   ],
   "source": [
    "plt.figure(figsize=(12,5))\n",
    "sns.kdeplot(df1['Acquisition Date'], shade=True, color='green');"
   ]
  },
  {
   "cell_type": "code",
   "execution_count": 36,
   "id": "33ce32a2",
   "metadata": {
    "scrolled": false
   },
   "outputs": [
    {
     "data": {
      "image/png": "[encoded data removed]",
      "text/plain": [
       "<Figure size 1368x504 with 1 Axes>"
      ]
     },
     "metadata": {
      "needs_background": "light"
     },
     "output_type": "display_data"
    }
   ],
   "source": [
    "plt.figure(figsize=(19,7))\n",
    "cities = sns.countplot(x=\"City\", data=df1, order = df1['City'].value_counts().index).set(title = \n",
    "                                                                                'Distribution of Cities')\n",
    "#cities.set_xticklabels(cities.get_xticklabels(), rotation=45)\n",
    "plt.xticks(rotation=90);"
   ]
  },
  {
   "cell_type": "code",
   "execution_count": 37,
   "id": "381a6f35",
   "metadata": {},
   "outputs": [
    {
     "data": {
      "image/png": "[encoded data removed]",
      "text/plain": [
       "<Figure size 720x144 with 1 Axes>"
      ]
     },
     "metadata": {
      "needs_background": "light"
     },
     "output_type": "display_data"
    }
   ],
   "source": [
    "# How many aoutmated Pensions are there?\n",
    "fig = plt.figure(figsize=(10,2))\n",
    "sns.countplot(y='Automated', data=df1);"
   ]
  },
  {
   "cell_type": "code",
   "execution_count": 38,
   "id": "1e3af8d8",
   "metadata": {},
   "outputs": [
    {
     "data": {
      "image/png": "[encoded data removed]",
      "text/plain": [
       "<Figure size 720x144 with 1 Axes>"
      ]
     },
     "metadata": {
      "needs_background": "light"
     },
     "output_type": "display_data"
    }
   ],
   "source": [
    "# How many Pensions are still working?\n",
    "fig = plt.figure(figsize=(10,2))\n",
    "sns.countplot(y='Works', data=df1);"
   ]
  },
  {
   "cell_type": "code",
   "execution_count": 39,
   "id": "652485ac",
   "metadata": {},
   "outputs": [],
   "source": [
    "# # Pensioners by discount type\n",
    "# fig = plt.figure(figsize=(15,5))\n",
    "# #sns.countplot(x='Discount', data=df1)\n",
    "# cities = sns.countplot(x= \"Discount\", data=df1, order = df1['Discount'].value_counts().index).set(title = \n",
    "#                                                                                 'Number of pensioners by Discount Type')\n",
    "# plt.xticks(rotation=90);"
   ]
  },
  {
   "cell_type": "code",
   "execution_count": 40,
   "id": "51016f2c",
   "metadata": {
    "scrolled": false
   },
   "outputs": [
    {
     "data": {
      "image/png": "[encoded data removed]",
      "text/plain": [
       "<Figure size 864x432 with 1 Axes>"
      ]
     },
     "metadata": {
      "needs_background": "light"
     },
     "output_type": "display_data"
    }
   ],
   "source": [
    "plt.figure(figsize=(12,6))\n",
    "sns.boxplot(df1['Pension Amount']);"
   ]
  },
  {
   "cell_type": "code",
   "execution_count": 41,
   "id": "b6758a73",
   "metadata": {
    "scrolled": false
   },
   "outputs": [
    {
     "data": {
      "image/png": "[encoded data removed]",
      "text/plain": [
       "<Figure size 864x432 with 1 Axes>"
      ]
     },
     "metadata": {
      "needs_background": "light"
     },
     "output_type": "display_data"
    }
   ],
   "source": [
    "plt.figure(figsize=(12,6))\n",
    "sns.boxplot(df1['Capital']);"
   ]
  },
  {
   "cell_type": "code",
   "execution_count": 42,
   "id": "75087a3d",
   "metadata": {},
   "outputs": [
    {
     "data": {
      "image/png": "[encoded data removed]",
      "text/plain": [
       "<Figure size 864x432 with 1 Axes>"
      ]
     },
     "metadata": {
      "needs_background": "light"
     },
     "output_type": "display_data"
    }
   ],
   "source": [
    "plt.figure(figsize=(12,6))\n",
    "sns.boxplot(df1['Until 1992']);"
   ]
  },
  {
   "cell_type": "code",
   "execution_count": 43,
   "id": "a56df6f3",
   "metadata": {
    "scrolled": false
   },
   "outputs": [
    {
     "data": {
      "image/png": "[encoded data removed]",
      "text/plain": [
       "<Figure size 864x432 with 1 Axes>"
      ]
     },
     "metadata": {
      "needs_background": "light"
     },
     "output_type": "display_data"
    }
   ],
   "source": [
    "plt.figure(figsize=(12,6))\n",
    "sns.boxplot(df1['1992-2006']);"
   ]
  },
  {
   "cell_type": "code",
   "execution_count": 44,
   "id": "f5587c39",
   "metadata": {},
   "outputs": [],
   "source": [
    "# plt.figure(figsize=(12,6))\n",
    "# sns.distplot(criteria['Pension Amount'], rug=True, norm_hist = True, color = 'green', bins=25,\n",
    "#            kde_kws={\"color\": \"r\", \"lw\": 3, \"label\": \"KDE\"})"
   ]
  },
  {
   "cell_type": "code",
   "execution_count": 45,
   "id": "3cb34d00",
   "metadata": {},
   "outputs": [],
   "source": [
    "# df1.Birthday.dtype"
   ]
  },
  {
   "cell_type": "code",
   "execution_count": 46,
   "id": "b7e8d05d",
   "metadata": {
    "scrolled": false
   },
   "outputs": [
    {
     "data": {
      "image/png": "[encoded data removed]",
      "text/plain": [
       "<Figure size 1296x432 with 1 Axes>"
      ]
     },
     "metadata": {
      "needs_background": "light"
     },
     "output_type": "display_data"
    }
   ],
   "source": [
    "plt.figure(figsize=(18,6))\n",
    "sns.countplot(x=\"Discount Type\", data=df1, order = df1['Discount Type'].value_counts().index).set(title = \n",
    "                                                      'Distribution of age pensioners for discount type');\n",
    "plt.xticks(rotation=90);"
   ]
  },
  {
   "cell_type": "code",
   "execution_count": 47,
   "id": "b0e63a61",
   "metadata": {},
   "outputs": [
    {
     "data": {
      "text/plain": [
       "206837494.6553"
      ]
     },
     "execution_count": 47,
     "metadata": {},
     "output_type": "execute_result"
    }
   ],
   "source": [
    "# Total monthly payment by Age Pension\n",
    "df1['Pension Amount'].sum()"
   ]
  },
  {
   "cell_type": "code",
   "execution_count": 48,
   "id": "28c71682",
   "metadata": {
    "scrolled": true
   },
   "outputs": [
    {
     "data": {
      "text/plain": [
       "2482049935.8636"
      ]
     },
     "execution_count": 48,
     "metadata": {},
     "output_type": "execute_result"
    }
   ],
   "source": [
    "# Total annual payment by Age Pension\n",
    "df1['Pension Amount'].sum()*12"
   ]
  },
  {
   "cell_type": "code",
   "execution_count": 49,
   "id": "e19f0e62",
   "metadata": {},
   "outputs": [],
   "source": [
    "capital = df1[df1[\"Capital\"] > 10000]"
   ]
  },
  {
   "cell_type": "code",
   "execution_count": 50,
   "id": "074c1cee",
   "metadata": {},
   "outputs": [
    {
     "data": {
      "text/html": [
       "<div>\n",
       "<style scoped>\n",
       "    .dataframe tbody tr th:only-of-type {\n",
       "        vertical-align: middle;\n",
       "    }\n",
       "\n",
       "    .dataframe tbody tr th {\n",
       "        vertical-align: top;\n",
       "    }\n",
       "\n",
       "    .dataframe thead th {\n",
       "        text-align: right;\n",
       "    }\n",
       "</style>\n",
       "<table border=\"1\" class=\"dataframe\">\n",
       "  <thead>\n",
       "    <tr style=\"text-align: right;\">\n",
       "      <th></th>\n",
       "      <th>PIN</th>\n",
       "      <th>Sex</th>\n",
       "      <th>Birthday</th>\n",
       "      <th>Address</th>\n",
       "      <th>Pension Type</th>\n",
       "      <th>Discount Type</th>\n",
       "      <th>Pension Amount</th>\n",
       "      <th>Past Unpaid Amount</th>\n",
       "      <th>One Time Payment</th>\n",
       "      <th>Deduction</th>\n",
       "      <th>Automated</th>\n",
       "      <th>City</th>\n",
       "      <th>Works</th>\n",
       "      <th>Until 1992</th>\n",
       "      <th>1992-2006</th>\n",
       "      <th>Capital</th>\n",
       "      <th>Acquisition Date</th>\n",
       "    </tr>\n",
       "  </thead>\n",
       "  <tbody>\n",
       "    <tr>\n",
       "      <th>74</th>\n",
       "      <td>3XP42RH</td>\n",
       "      <td>Male</td>\n",
       "      <td>1952-02-09</td>\n",
       "      <td>CƏBRAYIL</td>\n",
       "      <td>AGE</td>\n",
       "      <td>Age</td>\n",
       "      <td>590.8300</td>\n",
       "      <td>0.0</td>\n",
       "      <td>0.0</td>\n",
       "      <td>43.0</td>\n",
       "      <td>No</td>\n",
       "      <td>Xüsusi Şərtlərlə Təyinat üzrə Mərkəzi Filial</td>\n",
       "      <td>Yes</td>\n",
       "      <td>25.000000</td>\n",
       "      <td>11.0</td>\n",
       "      <td>10073.9271</td>\n",
       "      <td>01.10.2015</td>\n",
       "    </tr>\n",
       "    <tr>\n",
       "      <th>119</th>\n",
       "      <td>2XW4GGB</td>\n",
       "      <td>Male</td>\n",
       "      <td>1954-03-31</td>\n",
       "      <td>BAKI</td>\n",
       "      <td>AGE</td>\n",
       "      <td>Age</td>\n",
       "      <td>435.2286</td>\n",
       "      <td>0.0</td>\n",
       "      <td>0.0</td>\n",
       "      <td>0.0</td>\n",
       "      <td>No</td>\n",
       "      <td>Bakı-Binəqədi</td>\n",
       "      <td>Yes</td>\n",
       "      <td>15.583333</td>\n",
       "      <td>14.0</td>\n",
       "      <td>18550.7500</td>\n",
       "      <td>31.03.2017</td>\n",
       "    </tr>\n",
       "    <tr>\n",
       "      <th>158</th>\n",
       "      <td>4BBDF0S</td>\n",
       "      <td>Male</td>\n",
       "      <td>1957-10-15</td>\n",
       "      <td>BAKI</td>\n",
       "      <td>AGE</td>\n",
       "      <td>With harmful work</td>\n",
       "      <td>509.4767</td>\n",
       "      <td>0.0</td>\n",
       "      <td>0.0</td>\n",
       "      <td>0.0</td>\n",
       "      <td>No</td>\n",
       "      <td>Xüsusi Şərtlərlə Təyinat üzrə Mərkəzi Filial</td>\n",
       "      <td>Yes</td>\n",
       "      <td>15.241667</td>\n",
       "      <td>13.0</td>\n",
       "      <td>13281.7800</td>\n",
       "      <td>05.10.2014</td>\n",
       "    </tr>\n",
       "  </tbody>\n",
       "</table>\n",
       "</div>"
      ],
      "text/plain": [
       "         PIN   Sex   Birthday   Address Pension Type      Discount Type  \\\n",
       "74   3XP42RH  Male 1952-02-09  CƏBRAYIL          AGE                Age   \n",
       "119  2XW4GGB  Male 1954-03-31      BAKI          AGE                Age   \n",
       "158  4BBDF0S  Male 1957-10-15      BAKI          AGE  With harmful work   \n",
       "\n",
       "     Pension Amount  Past Unpaid Amount  One Time Payment  Deduction  \\\n",
       "74         590.8300                 0.0               0.0       43.0   \n",
       "119        435.2286                 0.0               0.0        0.0   \n",
       "158        509.4767                 0.0               0.0        0.0   \n",
       "\n",
       "    Automated                                          City Works  Until 1992  \\\n",
       "74         No  Xüsusi Şərtlərlə Təyinat üzrə Mərkəzi Filial   Yes   25.000000   \n",
       "119        No                                 Bakı-Binəqədi   Yes   15.583333   \n",
       "158        No  Xüsusi Şərtlərlə Təyinat üzrə Mərkəzi Filial   Yes   15.241667   \n",
       "\n",
       "     1992-2006     Capital Acquisition Date  \n",
       "74        11.0  10073.9271       01.10.2015  \n",
       "119       14.0  18550.7500       31.03.2017  \n",
       "158       13.0  13281.7800       05.10.2014  "
      ]
     },
     "execution_count": 50,
     "metadata": {},
     "output_type": "execute_result"
    }
   ],
   "source": [
    "capital.head(3)"
   ]
  },
  {
   "cell_type": "code",
   "execution_count": 51,
   "id": "f14f9be7",
   "metadata": {},
   "outputs": [],
   "source": [
    "over_10000 = df1[df1[\"Pension Amount\"] > 10000]"
   ]
  },
  {
   "cell_type": "code",
   "execution_count": 52,
   "id": "53f2b542",
   "metadata": {
    "scrolled": false
   },
   "outputs": [
    {
     "data": {
      "text/html": [
       "<div>\n",
       "<style scoped>\n",
       "    .dataframe tbody tr th:only-of-type {\n",
       "        vertical-align: middle;\n",
       "    }\n",
       "\n",
       "    .dataframe tbody tr th {\n",
       "        vertical-align: top;\n",
       "    }\n",
       "\n",
       "    .dataframe thead th {\n",
       "        text-align: right;\n",
       "    }\n",
       "</style>\n",
       "<table border=\"1\" class=\"dataframe\">\n",
       "  <thead>\n",
       "    <tr style=\"text-align: right;\">\n",
       "      <th></th>\n",
       "      <th>PIN</th>\n",
       "      <th>Sex</th>\n",
       "      <th>Birthday</th>\n",
       "      <th>Address</th>\n",
       "      <th>Pension Type</th>\n",
       "      <th>Discount Type</th>\n",
       "      <th>Pension Amount</th>\n",
       "      <th>Past Unpaid Amount</th>\n",
       "      <th>One Time Payment</th>\n",
       "      <th>Deduction</th>\n",
       "      <th>Automated</th>\n",
       "      <th>City</th>\n",
       "      <th>Works</th>\n",
       "      <th>Until 1992</th>\n",
       "      <th>1992-2006</th>\n",
       "      <th>Capital</th>\n",
       "      <th>Acquisition Date</th>\n",
       "    </tr>\n",
       "  </thead>\n",
       "  <tbody>\n",
       "    <tr>\n",
       "      <th>25770</th>\n",
       "      <td>1NEJSF7</td>\n",
       "      <td>Male</td>\n",
       "      <td>1948-02-25</td>\n",
       "      <td>BAKI</td>\n",
       "      <td>AGE</td>\n",
       "      <td>With harmful work</td>\n",
       "      <td>10399.1900</td>\n",
       "      <td>69246280.0</td>\n",
       "      <td>0.0</td>\n",
       "      <td>0.0</td>\n",
       "      <td>No</td>\n",
       "      <td>Xüsusi Şərtlərlə Təyinat üzrə Mərkəzi Filial</td>\n",
       "      <td>No</td>\n",
       "      <td>24.000000</td>\n",
       "      <td>14.0</td>\n",
       "      <td>154015.8800</td>\n",
       "      <td>01.12.2012</td>\n",
       "    </tr>\n",
       "    <tr>\n",
       "      <th>36846</th>\n",
       "      <td>00QNZ91</td>\n",
       "      <td>Male</td>\n",
       "      <td>1939-10-03</td>\n",
       "      <td>BAKI</td>\n",
       "      <td>AGE</td>\n",
       "      <td>Age</td>\n",
       "      <td>11490.8174</td>\n",
       "      <td>0.0</td>\n",
       "      <td>0.0</td>\n",
       "      <td>0.0</td>\n",
       "      <td>No</td>\n",
       "      <td>Bakı-Nəsimi</td>\n",
       "      <td>Yes</td>\n",
       "      <td>29.083333</td>\n",
       "      <td>14.0</td>\n",
       "      <td>0.0000</td>\n",
       "      <td>01.01.2006</td>\n",
       "    </tr>\n",
       "    <tr>\n",
       "      <th>43335</th>\n",
       "      <td>122NY1B</td>\n",
       "      <td>Female</td>\n",
       "      <td>1953-06-09</td>\n",
       "      <td>BAKI</td>\n",
       "      <td>AGE</td>\n",
       "      <td>Age</td>\n",
       "      <td>10869.0582</td>\n",
       "      <td>0.0</td>\n",
       "      <td>0.0</td>\n",
       "      <td>0.0</td>\n",
       "      <td>No</td>\n",
       "      <td>Bakı-Yasamal</td>\n",
       "      <td>Yes</td>\n",
       "      <td>20.000000</td>\n",
       "      <td>14.0</td>\n",
       "      <td>208029.6025</td>\n",
       "      <td>06.09.2013</td>\n",
       "    </tr>\n",
       "  </tbody>\n",
       "</table>\n",
       "</div>"
      ],
      "text/plain": [
       "           PIN     Sex   Birthday Address Pension Type      Discount Type  \\\n",
       "25770  1NEJSF7    Male 1948-02-25    BAKI          AGE  With harmful work   \n",
       "36846  00QNZ91    Male 1939-10-03    BAKI          AGE                Age   \n",
       "43335  122NY1B  Female 1953-06-09    BAKI          AGE                Age   \n",
       "\n",
       "       Pension Amount  Past Unpaid Amount  One Time Payment  Deduction  \\\n",
       "25770      10399.1900          69246280.0               0.0        0.0   \n",
       "36846      11490.8174                 0.0               0.0        0.0   \n",
       "43335      10869.0582                 0.0               0.0        0.0   \n",
       "\n",
       "      Automated                                          City Works  \\\n",
       "25770        No  Xüsusi Şərtlərlə Təyinat üzrə Mərkəzi Filial    No   \n",
       "36846        No                                   Bakı-Nəsimi   Yes   \n",
       "43335        No                                  Bakı-Yasamal   Yes   \n",
       "\n",
       "       Until 1992  1992-2006      Capital Acquisition Date  \n",
       "25770   24.000000       14.0  154015.8800       01.12.2012  \n",
       "36846   29.083333       14.0       0.0000       01.01.2006  \n",
       "43335   20.000000       14.0  208029.6025       06.09.2013  "
      ]
     },
     "execution_count": 52,
     "metadata": {},
     "output_type": "execute_result"
    }
   ],
   "source": [
    "over_10000.head(3)"
   ]
  },
  {
   "cell_type": "code",
   "execution_count": 53,
   "id": "19685ed4",
   "metadata": {},
   "outputs": [],
   "source": [
    "experience_1992_2006 = df1[df1[\"1992-2006\"] > 14]"
   ]
  },
  {
   "cell_type": "code",
   "execution_count": 54,
   "id": "69b00ba2",
   "metadata": {},
   "outputs": [
    {
     "data": {
      "text/html": [
       "<div>\n",
       "<style scoped>\n",
       "    .dataframe tbody tr th:only-of-type {\n",
       "        vertical-align: middle;\n",
       "    }\n",
       "\n",
       "    .dataframe tbody tr th {\n",
       "        vertical-align: top;\n",
       "    }\n",
       "\n",
       "    .dataframe thead th {\n",
       "        text-align: right;\n",
       "    }\n",
       "</style>\n",
       "<table border=\"1\" class=\"dataframe\">\n",
       "  <thead>\n",
       "    <tr style=\"text-align: right;\">\n",
       "      <th></th>\n",
       "      <th>PIN</th>\n",
       "      <th>Sex</th>\n",
       "      <th>Birthday</th>\n",
       "      <th>Address</th>\n",
       "      <th>Pension Type</th>\n",
       "      <th>Discount Type</th>\n",
       "      <th>Pension Amount</th>\n",
       "      <th>Past Unpaid Amount</th>\n",
       "      <th>One Time Payment</th>\n",
       "      <th>Deduction</th>\n",
       "      <th>Automated</th>\n",
       "      <th>City</th>\n",
       "      <th>Works</th>\n",
       "      <th>Until 1992</th>\n",
       "      <th>1992-2006</th>\n",
       "      <th>Capital</th>\n",
       "      <th>Acquisition Date</th>\n",
       "    </tr>\n",
       "  </thead>\n",
       "  <tbody>\n",
       "    <tr>\n",
       "      <th>6036</th>\n",
       "      <td>24YMSFV</td>\n",
       "      <td>Male</td>\n",
       "      <td>1951-01-30</td>\n",
       "      <td>BAKI</td>\n",
       "      <td>AGE</td>\n",
       "      <td>Flight Crew</td>\n",
       "      <td>5790.6762</td>\n",
       "      <td>0.0</td>\n",
       "      <td>0.0</td>\n",
       "      <td>0.0</td>\n",
       "      <td>No</td>\n",
       "      <td>Bakı-Nərimanov</td>\n",
       "      <td>Yes</td>\n",
       "      <td>0.000000</td>\n",
       "      <td>19.00</td>\n",
       "      <td>0.0000</td>\n",
       "      <td>14.02.2007</td>\n",
       "    </tr>\n",
       "    <tr>\n",
       "      <th>14414</th>\n",
       "      <td>18YPJCU</td>\n",
       "      <td>Male</td>\n",
       "      <td>1963-10-23</td>\n",
       "      <td>BAKI</td>\n",
       "      <td>AGE</td>\n",
       "      <td>Flight Crew</td>\n",
       "      <td>4090.4415</td>\n",
       "      <td>0.0</td>\n",
       "      <td>0.0</td>\n",
       "      <td>46.7</td>\n",
       "      <td>No</td>\n",
       "      <td>Xüsusi Şərtlərlə Təyinat üzrə Mərkəzi Filial</td>\n",
       "      <td>Yes</td>\n",
       "      <td>0.000000</td>\n",
       "      <td>48.75</td>\n",
       "      <td>16098.2143</td>\n",
       "      <td>23.10.2007</td>\n",
       "    </tr>\n",
       "    <tr>\n",
       "      <th>16416</th>\n",
       "      <td>1E5QK85</td>\n",
       "      <td>Male</td>\n",
       "      <td>1973-09-04</td>\n",
       "      <td>BAKI</td>\n",
       "      <td>AGE</td>\n",
       "      <td>Flight Crew</td>\n",
       "      <td>1332.7541</td>\n",
       "      <td>0.0</td>\n",
       "      <td>0.0</td>\n",
       "      <td>20.0</td>\n",
       "      <td>No</td>\n",
       "      <td>Xüsusi Şərtlərlə Təyinat üzrə Mərkəzi Filial</td>\n",
       "      <td>Yes</td>\n",
       "      <td>0.586111</td>\n",
       "      <td>30.00</td>\n",
       "      <td>0.0000</td>\n",
       "      <td>04.12.2009</td>\n",
       "    </tr>\n",
       "  </tbody>\n",
       "</table>\n",
       "</div>"
      ],
      "text/plain": [
       "           PIN   Sex   Birthday Address Pension Type Discount Type  \\\n",
       "6036   24YMSFV  Male 1951-01-30    BAKI          AGE   Flight Crew   \n",
       "14414  18YPJCU  Male 1963-10-23    BAKI          AGE   Flight Crew   \n",
       "16416  1E5QK85  Male 1973-09-04    BAKI          AGE   Flight Crew   \n",
       "\n",
       "       Pension Amount  Past Unpaid Amount  One Time Payment  Deduction  \\\n",
       "6036        5790.6762                 0.0               0.0        0.0   \n",
       "14414       4090.4415                 0.0               0.0       46.7   \n",
       "16416       1332.7541                 0.0               0.0       20.0   \n",
       "\n",
       "      Automated                                          City Works  \\\n",
       "6036         No                                Bakı-Nərimanov   Yes   \n",
       "14414        No  Xüsusi Şərtlərlə Təyinat üzrə Mərkəzi Filial   Yes   \n",
       "16416        No  Xüsusi Şərtlərlə Təyinat üzrə Mərkəzi Filial   Yes   \n",
       "\n",
       "       Until 1992  1992-2006     Capital Acquisition Date  \n",
       "6036     0.000000      19.00      0.0000       14.02.2007  \n",
       "14414    0.000000      48.75  16098.2143       23.10.2007  \n",
       "16416    0.586111      30.00      0.0000       04.12.2009  "
      ]
     },
     "execution_count": 54,
     "metadata": {},
     "output_type": "execute_result"
    }
   ],
   "source": [
    "experience_1992_2006.head(3)"
   ]
  },
  {
   "cell_type": "code",
   "execution_count": 57,
   "id": "61b1e667",
   "metadata": {
    "scrolled": false
   },
   "outputs": [
    {
     "data": {
      "text/plain": [
       "Text(0.5, 1.0, 'Total Pensioners')"
      ]
     },
     "execution_count": 57,
     "metadata": {},
     "output_type": "execute_result"
    },
    {
     "data": {
      "image/png": "[encoded data removed]",
      "text/plain": [
       "<Figure size 864x432 with 1 Axes>"
      ]
     },
     "metadata": {
      "needs_background": "light"
     },
     "output_type": "display_data"
    }
   ],
   "source": [
    "plt.figure(figsize=(12,6))\n",
    "df1['Pension Amount'].plot(kind='hist', bins=25, color = 'violet')\n",
    "plt.xlabel('Amount')\n",
    "plt.title('Total Pensioners')"
   ]
  },
  {
   "cell_type": "code",
   "execution_count": 61,
   "id": "be8645f2",
   "metadata": {},
   "outputs": [
    {
     "data": {
      "text/plain": [
       "pandas.core.series.Series"
      ]
     },
     "execution_count": 61,
     "metadata": {},
     "output_type": "execute_result"
    }
   ],
   "source": [
    "type(df1['Capital'])"
   ]
  },
  {
   "cell_type": "code",
   "execution_count": 96,
   "id": "d10d1f68",
   "metadata": {},
   "outputs": [
    {
     "name": "stdout",
     "output_type": "stream",
     "text": [
      "199.9981\n"
     ]
    }
   ],
   "source": [
    "for i in df1['Pension Amount']:\n",
    "    if i < 200:\n",
    "        print(i)"
   ]
  },
  {
   "cell_type": "code",
   "execution_count": 117,
   "id": "789df28b",
   "metadata": {},
   "outputs": [],
   "source": [
    "over_10k = []\n",
    "for k in df1['Pension Amount']:\n",
    "    if k >= 10000:\n",
    "        over_10k.append(k)"
   ]
  },
  {
   "cell_type": "code",
   "execution_count": 119,
   "id": "45649bf1",
   "metadata": {},
   "outputs": [
    {
     "name": "stdout",
     "output_type": "stream",
     "text": [
      "24\n"
     ]
    }
   ],
   "source": [
    "print(len(over_10k))"
   ]
  },
  {
   "cell_type": "code",
   "execution_count": 120,
   "id": "95fef40c",
   "metadata": {},
   "outputs": [],
   "source": [
    "capital_over_100k = []\n",
    "\n",
    "for l in df1['Capital']:\n",
    "    if l >= 100000:\n",
    "        capital_over_100k.append(l)"
   ]
  },
  {
   "cell_type": "code",
   "execution_count": 121,
   "id": "90b2fdb0",
   "metadata": {
    "scrolled": true
   },
   "outputs": [
    {
     "data": {
      "text/plain": [
       "[199671.6849,\n",
       " 110196.4095,\n",
       " 784239.12,\n",
       " 112332.42,\n",
       " 134972.53,\n",
       " 198751.77,\n",
       " 107945.33,\n",
       " 170925.27,\n",
       " 718042.1,\n",
       " 125775.46,\n",
       " 125076.74,\n",
       " 198300.39,\n",
       " 185987.3,\n",
       " 333218.8246,\n",
       " 172986.14,\n",
       " 129930.34,\n",
       " 123204.72,\n",
       " 154015.88,\n",
       " 206200.25,\n",
       " 178721.9062,\n",
       " 220082.5063,\n",
       " 129383.8311,\n",
       " 100396.06,\n",
       " 123437.85,\n",
       " 208029.6025,\n",
       " 461562.26,\n",
       " 176218.0874,\n",
       " 132961.9,\n",
       " 162607.07,\n",
       " 115243.32,\n",
       " 180020.27,\n",
       " 151975.55,\n",
       " 192011.4339,\n",
       " 234004.15,\n",
       " 215393.46,\n",
       " 180827.12,\n",
       " 133710.2435,\n",
       " 125294.7929,\n",
       " 212644.66,\n",
       " 163148.77,\n",
       " 106691.04,\n",
       " 117114.2083,\n",
       " 132180.011,\n",
       " 141398.58,\n",
       " 106874.62,\n",
       " 103038.0835,\n",
       " 153807.12,\n",
       " 123550.99,\n",
       " 127648.81,\n",
       " 100539.21,\n",
       " 739066.39,\n",
       " 173156.76,\n",
       " 123788.62,\n",
       " 128232.1634,\n",
       " 158801.003,\n",
       " 198735.43,\n",
       " 105879.8435,\n",
       " 125707.52,\n",
       " 274917.61,\n",
       " 229478.77,\n",
       " 129832.07,\n",
       " 123045.8277,\n",
       " 130199.26,\n",
       " 179300.72,\n",
       " 119628.48,\n",
       " 121346.39,\n",
       " 167646.52,\n",
       " 130076.05,\n",
       " 147634.67,\n",
       " 148028.39,\n",
       " 108206.4407,\n",
       " 289544.59,\n",
       " 116170.7231,\n",
       " 389562.6309,\n",
       " 122603.0441,\n",
       " 155468.74,\n",
       " 341732.48,\n",
       " 102411.83,\n",
       " 205458.26,\n",
       " 103041.56,\n",
       " 102085.944,\n",
       " 130567.4343,\n",
       " 187401.13,\n",
       " 102676.54,\n",
       " 102922.3016,\n",
       " 115786.1834,\n",
       " 114433.06,\n",
       " 167618.88,\n",
       " 129702.66,\n",
       " 102804.2874,\n",
       " 127568.4991,\n",
       " 120695.77,\n",
       " 158826.99,\n",
       " 131101.55,\n",
       " 172337.56,\n",
       " 105130.19,\n",
       " 145403.95,\n",
       " 182831.2,\n",
       " 120011.36,\n",
       " 146315.98,\n",
       " 155052.55,\n",
       " 112268.55,\n",
       " 228318.14,\n",
       " 142632.13,\n",
       " 149384.7467,\n",
       " 152963.86,\n",
       " 101185.77,\n",
       " 297796.89,\n",
       " 128895.3,\n",
       " 117703.2921,\n",
       " 156564.64,\n",
       " 1116651.5561,\n",
       " 142339.6071,\n",
       " 117077.0672,\n",
       " 107344.5466,\n",
       " 103454.6781,\n",
       " 153582.02,\n",
       " 145526.22,\n",
       " 123440.05,\n",
       " 183694.66,\n",
       " 212809.23,\n",
       " 185466.67,\n",
       " 102996.1,\n",
       " 102231.89,\n",
       " 150101.8109,\n",
       " 131086.4503,\n",
       " 266002.0115,\n",
       " 168553.7054,\n",
       " 138014.3486,\n",
       " 183120.62,\n",
       " 132153.78,\n",
       " 107881.6589,\n",
       " 133287.5409,\n",
       " 124956.9534,\n",
       " 117818.7307,\n",
       " 176975.96,\n",
       " 502010.6307,\n",
       " 131168.2,\n",
       " 179952.3152,\n",
       " 124336.03,\n",
       " 142381.44,\n",
       " 130386.5777,\n",
       " 154915.8,\n",
       " 300637.6974,\n",
       " 265292.9261,\n",
       " 167263.21,\n",
       " 190297.1406,\n",
       " 135850.62,\n",
       " 172780.49,\n",
       " 144828.06,\n",
       " 147903.54,\n",
       " 121366.56,\n",
       " 120972.88,\n",
       " 102096.65,\n",
       " 256539.34,\n",
       " 152956.13,\n",
       " 136128.87,\n",
       " 158670.8422,\n",
       " 178725.9963,\n",
       " 129397.85,\n",
       " 101256.2,\n",
       " 151237.28,\n",
       " 143512.9269,\n",
       " 130573.59,\n",
       " 221538.1401,\n",
       " 178460.0942,\n",
       " 135565.1684,\n",
       " 107747.99,\n",
       " 150887.49,\n",
       " 104769.0125,\n",
       " 137808.961,\n",
       " 150513.93,\n",
       " 149999.09,\n",
       " 143654.0234,\n",
       " 143147.26,\n",
       " 175478.59,\n",
       " 108161.05,\n",
       " 187444.3347,\n",
       " 117668.8304,\n",
       " 164620.23,\n",
       " 428592.4,\n",
       " 131736.2275,\n",
       " 108279.4739,\n",
       " 110616.423,\n",
       " 270567.1833,\n",
       " 183485.59,\n",
       " 144271.3229,\n",
       " 134270.25,\n",
       " 122093.6,\n",
       " 270333.11,\n",
       " 104357.69,\n",
       " 358864.7937,\n",
       " 141838.72,\n",
       " 138682.8,\n",
       " 118857.5518,\n",
       " 109671.41,\n",
       " 176952.2,\n",
       " 106018.4152,\n",
       " 103063.68,\n",
       " 170042.56,\n",
       " 270722.88,\n",
       " 254735.43,\n",
       " 110314.0278,\n",
       " 167699.43,\n",
       " 239145.16,\n",
       " 995429.81,\n",
       " 134242.5159,\n",
       " 215552.72,\n",
       " 151863.597,\n",
       " 147555.42,\n",
       " 123385.3,\n",
       " 100105.77,\n",
       " 100948.1999,\n",
       " 156316.32,\n",
       " 198374.4286,\n",
       " 255865.77,\n",
       " 155896.88,\n",
       " 131405.19,\n",
       " 115081.69,\n",
       " 143931.93,\n",
       " 140437.15,\n",
       " 115668.6383,\n",
       " 125134.5447,\n",
       " 100162.8986,\n",
       " 126891.4953,\n",
       " 104719.68,\n",
       " 231392.16,\n",
       " 117701.08,\n",
       " 105222.7,\n",
       " 132467.7396,\n",
       " 188216.84,\n",
       " 156475.4469,\n",
       " 167220.2852,\n",
       " 124785.7888,\n",
       " 106992.5097,\n",
       " 109852.3861,\n",
       " 138013.3216,\n",
       " 107268.78,\n",
       " 105474.9,\n",
       " 106734.8319,\n",
       " 385830.65,\n",
       " 108125.82,\n",
       " 164991.56,\n",
       " 176762.663,\n",
       " 176425.64,\n",
       " 103591.56,\n",
       " 255052.9246,\n",
       " 104085.8095,\n",
       " 226492.41,\n",
       " 151984.4836,\n",
       " 115179.89,\n",
       " 127320.6,\n",
       " 118090.21,\n",
       " 137887.76,\n",
       " 216208.74,\n",
       " 106588.97,\n",
       " 116917.24,\n",
       " 174819.88,\n",
       " 100921.1434,\n",
       " 135859.1331,\n",
       " 102151.86,\n",
       " 195763.72,\n",
       " 193483.37,\n",
       " 240614.24,\n",
       " 165460.35,\n",
       " 141082.16,\n",
       " 132853.7338,\n",
       " 201617.6198,\n",
       " 105318.5812,\n",
       " 134053.76,\n",
       " 209983.31,\n",
       " 127963.87,\n",
       " 194115.9425,\n",
       " 103960.11,\n",
       " 238848.26,\n",
       " 119037.5338,\n",
       " 153555.87,\n",
       " 139368.8759,\n",
       " 104764.91,\n",
       " 114484.17,\n",
       " 167314.05,\n",
       " 158489.59,\n",
       " 176869.5999,\n",
       " 133789.56,\n",
       " 146753.52,\n",
       " 125328.53,\n",
       " 180868.62,\n",
       " 129790.1312,\n",
       " 229243.5225,\n",
       " 107433.61,\n",
       " 175187.22,\n",
       " 207752.163,\n",
       " 144772.77,\n",
       " 113812.24,\n",
       " 101046.5187,\n",
       " 153723.0717,\n",
       " 222214.16,\n",
       " 140776.94,\n",
       " 142117.04,\n",
       " 180039.02,\n",
       " 113006.17,\n",
       " 196853.26,\n",
       " 186276.11,\n",
       " 127529.84,\n",
       " 274879.94,\n",
       " 136238.47,\n",
       " 119753.91,\n",
       " 112907.0435,\n",
       " 201895.68,\n",
       " 105504.78,\n",
       " 247701.85,\n",
       " 149891.14,\n",
       " 111372.1698,\n",
       " 133199.32,\n",
       " 102528.0498,\n",
       " 123874.8209,\n",
       " 118633.64,\n",
       " 121717.83,\n",
       " 153491.22,\n",
       " 182720.327,\n",
       " 107569.58,\n",
       " 135701.0251,\n",
       " 121438.96,\n",
       " 217183.4,\n",
       " 138729.13,\n",
       " 117047.0781,\n",
       " 331727.2,\n",
       " 131779.84,\n",
       " 115852.34,\n",
       " 114930.6,\n",
       " 115421.82,\n",
       " 919087.91,\n",
       " 116045.6,\n",
       " 101338.64,\n",
       " 210291.08,\n",
       " 153022.64,\n",
       " 110502.87,\n",
       " 175713.7688,\n",
       " 173766.1,\n",
       " 158899.42,\n",
       " 116062.86,\n",
       " 222080.845,\n",
       " 127616.2866,\n",
       " 127557.87,\n",
       " 241726.82,\n",
       " 155106.67,\n",
       " 372550.79,\n",
       " 106831.26,\n",
       " 108333.91,\n",
       " 161690.93,\n",
       " 104396.65,\n",
       " 106749.5,\n",
       " 159073.503,\n",
       " 262291.41,\n",
       " 296702.2186,\n",
       " 131058.81,\n",
       " 131825.94,\n",
       " 129430.97,\n",
       " 236590.69,\n",
       " 159375.33,\n",
       " 133270.89,\n",
       " 107231.3482,\n",
       " 481461.94,\n",
       " 245006.4,\n",
       " 213515.01,\n",
       " 752782.1092,\n",
       " 263082.51,\n",
       " 101695.5,\n",
       " 121544.86,\n",
       " 103083.18,\n",
       " 144976.61,\n",
       " 126021.1269,\n",
       " 170379.38,\n",
       " 160650.39,\n",
       " 105126.07,\n",
       " 106940.0202,\n",
       " 138364.9094,\n",
       " 103847.8199,\n",
       " 170284.36,\n",
       " 109206.16,\n",
       " 115835.6724,\n",
       " 151746.18,\n",
       " 112873.11,\n",
       " 174405.15,\n",
       " 315037.1652,\n",
       " 135321.45,\n",
       " 100179.98,\n",
       " 111439.9246,\n",
       " 122649.81,\n",
       " 121357.3804,\n",
       " 117527.6728,\n",
       " 151176.8368,\n",
       " 109234.51,\n",
       " 136786.328,\n",
       " 123275.3176,\n",
       " 157755.47,\n",
       " 237048.88,\n",
       " 125041.76,\n",
       " 150139.77,\n",
       " 107131.18,\n",
       " 168038.6902,\n",
       " 165694.2514,\n",
       " 119207.7801,\n",
       " 105054.37,\n",
       " 122022.27,\n",
       " 157885.52,\n",
       " 115014.7075,\n",
       " 150282.39,\n",
       " 224508.22,\n",
       " 103268.5,\n",
       " 112716.597,\n",
       " 249430.51,\n",
       " 206337.46,\n",
       " 124991.69,\n",
       " 119302.44,\n",
       " 114079.21,\n",
       " 183869.5464,\n",
       " 101722.6014,\n",
       " 127683.03,\n",
       " 193904.8244,\n",
       " 100178.3404,\n",
       " 334610.46,\n",
       " 210000.4272,\n",
       " 108631.2712,\n",
       " 183443.731,\n",
       " 175982.6295,\n",
       " 107333.09,\n",
       " 104648.4119,\n",
       " 114223.6746,\n",
       " 215893.2353,\n",
       " 128946.13,\n",
       " 203277.04,\n",
       " 114966.4893,\n",
       " 108677.4118,\n",
       " 142308.96,\n",
       " 110901.8,\n",
       " 161682.63,\n",
       " 283275.93,\n",
       " 141833.47,\n",
       " 273976.74,\n",
       " 120211.29,\n",
       " 123052.75,\n",
       " 117047.29,\n",
       " 130738.36,\n",
       " 114050.69,\n",
       " 108901.02,\n",
       " 383723.82,\n",
       " 223803.6555,\n",
       " 140469.5,\n",
       " 105685.6976,\n",
       " 177683.2809,\n",
       " 123059.2164,\n",
       " 100079.3526,\n",
       " 107756.0663,\n",
       " 103863.43,\n",
       " 104738.262,\n",
       " 134317.8964,\n",
       " 102001.3924,\n",
       " 107028.58,\n",
       " 101596.93,\n",
       " 119549.3153,\n",
       " 100675.9,\n",
       " 502829.521,\n",
       " 166564.7921,\n",
       " 156385.6925,\n",
       " 405985.84,\n",
       " 209193.6886,\n",
       " 107894.82,\n",
       " 235327.56,\n",
       " 120211.6,\n",
       " 189011.2434,\n",
       " 162148.9887,\n",
       " 129972.8931,\n",
       " 119807.7897,\n",
       " 248886.4208,\n",
       " 139607.33,\n",
       " 144395.8,\n",
       " 143604.23,\n",
       " 142451.3228,\n",
       " 112212.3887,\n",
       " 145093.35,\n",
       " 12345678.0]"
      ]
     },
     "execution_count": 121,
     "metadata": {},
     "output_type": "execute_result"
    }
   ],
   "source": [
    "capital_over_100k"
   ]
  },
  {
   "cell_type": "code",
   "execution_count": 124,
   "id": "e5f3bf96",
   "metadata": {},
   "outputs": [
    {
     "data": {
      "text/plain": [
       "482"
      ]
     },
     "execution_count": 124,
     "metadata": {},
     "output_type": "execute_result"
    }
   ],
   "source": [
    "len(capital_over_100k)"
   ]
  },
  {
   "cell_type": "code",
   "execution_count": 118,
   "id": "af1f6642",
   "metadata": {},
   "outputs": [
    {
     "name": "stdout",
     "output_type": "stream",
     "text": [
      "[10399.19, 11490.8174, 10869.0582, 12159.6428, 15441.8123, 12135.1193, 17056.0306, 12104.3341, 17315.3291, 10471.7185, 10589.6939, 17375.5703, 12039.165, 12979.4331, 13006.6963, 11262.9179, 11335.234, 18645.86, 10500.0, 12591.6214, 11544.0922, 15503.9574, 20283.7762, 11023.864]\n"
     ]
    }
   ],
   "source": [
    "print(over_10k)"
   ]
  },
  {
   "cell_type": "code",
   "execution_count": 74,
   "id": "fedb95d9",
   "metadata": {
    "scrolled": true
   },
   "outputs": [],
   "source": [
    "a = 0\n",
    "b = 0\n",
    "c = 0\n",
    "d = 0\n",
    "e = 0\n",
    "f = 0\n",
    "\n",
    "for i in df1['Pension Amount']:\n",
    "    if  0 <= i <= 300:\n",
    "        a += 1\n",
    "    elif 300 < i <= 500:\n",
    "        b+=1\n",
    "    elif 500 < i <= 1000:\n",
    "        c+=1\n",
    "    elif 1000 < i <= 2000:\n",
    "        d+=1\n",
    "    elif 2000 < i <= 5000:\n",
    "        e+=1    \n",
    "    else:\n",
    "        f+=1"
   ]
  },
  {
   "cell_type": "code",
   "execution_count": 110,
   "id": "9f1f4e2d",
   "metadata": {},
   "outputs": [],
   "source": [
    "amount_dist = []"
   ]
  },
  {
   "cell_type": "code",
   "execution_count": 111,
   "id": "9ca66c94",
   "metadata": {},
   "outputs": [],
   "source": [
    "amount_dist.extend([a, b, c, d, e, f])"
   ]
  },
  {
   "cell_type": "code",
   "execution_count": 112,
   "id": "5fad0e7e",
   "metadata": {},
   "outputs": [
    {
     "data": {
      "text/plain": [
       "[453075, 140260, 30648, 6686, 2321, 210]"
      ]
     },
     "execution_count": 112,
     "metadata": {},
     "output_type": "execute_result"
    }
   ],
   "source": [
    "amount_dist"
   ]
  },
  {
   "cell_type": "code",
   "execution_count": 95,
   "id": "3337f1c8",
   "metadata": {
    "scrolled": false
   },
   "outputs": [
    {
     "data": {
      "text/plain": [
       "Text(0.5, 1.0, 'Pensioner frequency by monthly pension amount')"
      ]
     },
     "execution_count": 95,
     "metadata": {},
     "output_type": "execute_result"
    },
    {
     "data": {
      "image/png": "[encoded data removed]",
      "text/plain": [
       "<Figure size 864x432 with 1 Axes>"
      ]
     },
     "metadata": {
      "needs_background": "light"
     },
     "output_type": "display_data"
    }
   ],
   "source": [
    "plt.figure(figsize=(12,6))\n",
    "plt.bar(['0-300', '300-500', '500-1000', '1000-2000', '2000-5000', '5000+'], amount_dist)\n",
    "plt.xlabel('Pension Amount')\n",
    "plt.ylabel('Number of Pensioners')\n",
    "plt.title('Pensioner frequency by monthly pension amount')"
   ]
  },
  {
   "cell_type": "code",
   "execution_count": 106,
   "id": "4eb4bc01",
   "metadata": {},
   "outputs": [],
   "source": [
    "a1 = 0\n",
    "b1 = 0\n",
    "c1 = 0\n",
    "d1 = 0\n",
    "e1 = 0\n",
    "f1 = 0\n",
    "g1 = 0\n",
    "x1 = 0\n",
    "\n",
    "\n",
    "for j in df1['Capital']:\n",
    "    if j == 0:\n",
    "        x1 += 1\n",
    "    elif  0 < j <= 1000:\n",
    "        a1 += 1\n",
    "    elif 1000 < j <= 10000:\n",
    "        b1+=1\n",
    "    elif 10000 < j <= 50000:\n",
    "        c1+=1\n",
    "    elif 50000 < j <= 100000:\n",
    "        d1+=1\n",
    "    elif 100000 < j <= 500000:\n",
    "        e1+=1\n",
    "    elif 500000 < j <= 1000000:\n",
    "        f1+=1 \n",
    "    else:\n",
    "        g1+=1"
   ]
  },
  {
   "cell_type": "code",
   "execution_count": 100,
   "id": "43136efc",
   "metadata": {},
   "outputs": [],
   "source": [
    "capital_freq = []"
   ]
  },
  {
   "cell_type": "code",
   "execution_count": 104,
   "id": "9b70fb82",
   "metadata": {},
   "outputs": [],
   "source": [
    "capital_freq.extend([x1, a1, b1, c1, d1, e1, f1, g1])"
   ]
  },
  {
   "cell_type": "code",
   "execution_count": 105,
   "id": "c4ccde3a",
   "metadata": {
    "scrolled": true
   },
   "outputs": [
    {
     "data": {
      "text/plain": [
       "[501554, 28608, 73148, 27979, 1429, 472, 8, 2]"
      ]
     },
     "execution_count": 105,
     "metadata": {},
     "output_type": "execute_result"
    }
   ],
   "source": [
    "capital_freq"
   ]
  },
  {
   "cell_type": "code",
   "execution_count": 114,
   "id": "b2af1c5d",
   "metadata": {},
   "outputs": [
    {
     "data": {
      "text/plain": [
       "Text(0.5, 1.0, 'Pensioner frequency by Capital')"
      ]
     },
     "execution_count": 114,
     "metadata": {},
     "output_type": "execute_result"
    },
    {
     "data": {
      "image/png": "[encoded data removed]",
      "text/plain": [
       "<Figure size 1080x432 with 1 Axes>"
      ]
     },
     "metadata": {
      "needs_background": "light"
     },
     "output_type": "display_data"
    }
   ],
   "source": [
    "plt.figure(figsize=(15,6))\n",
    "plt.bar(['0', '0-1000', '1000-10000', '10000-50000', '50000-100000', '100000-500000', '500000-1000000', '1000000+'], \n",
    "        capital_freq)\n",
    "plt.xlabel('Capital')\n",
    "plt.ylabel('Number of Pensioners')\n",
    "plt.title('Pensioner frequency by Capital')"
   ]
  }
 ],
 "metadata": {
  "kernelspec": {
   "display_name": "Python 3",
   "language": "python",
   "name": "python3"
  },
  "language_info": {
   "codemirror_mode": {
    "name": "ipython",
    "version": 3
   },
   "file_extension": ".py",
   "mimetype": "text/x-python",
   "name": "python",
   "nbconvert_exporter": "python",
   "pygments_lexer": "ipython3",
   "version": "3.8.8"
  }
 },
 "nbformat": 4,
 "nbformat_minor": 5
}
